{
  "nbformat": 4,
  "nbformat_minor": 0,
  "metadata": {
    "colab": {
      "name": "QuietWatch_notebook.ipynb",
      "provenance": []
    },
    "kernelspec": {
      "name": "python3",
      "display_name": "Python 3"
    },
    "language_info": {
      "name": "python"
    }
  },
  "cells": [
    {
      "cell_type": "markdown",
      "metadata": {
        "id": "N5_0ysgZgLeH"
      },
      "source": [
        "# Notebook para teste do projeto QuietWatch (T3BB5)"
      ]
    },
    {
      "cell_type": "markdown",
      "metadata": {
        "id": "yDvKU1c-gb72"
      },
      "source": [
        "Este notebook implementa um cliente MQTT responsável por controlar o projeto QuietWatch. O objetivo é automatizar o procedimento de teste e fornecer um tour pela jornada básica de nosso projeto.\n",
        "\n"
      ]
    },
    {
      "cell_type": "markdown",
      "metadata": {
        "id": "NoiY1y7Rhf7P"
      },
      "source": [
        "## Setup inicial\n",
        "\n",
        "Primeiramente, é necessário instalar a biblioteca Paho para instanciar um cliente MQTT. Uma vez instalada a biblioteca, *essa bloco não precisa ser executado novamente*."
      ]
    },
    {
      "cell_type": "code",
      "metadata": {
        "colab": {
          "base_uri": "https://localhost:8080/",
          "height": 0
        },
        "id": "KDuqz8d72JGA",
        "outputId": "6a5ff612-e3c4-4f89-d5e3-67fb1712051a"
      },
      "source": [
        "pip install paho-mqtt"
      ],
      "execution_count": 1,
      "outputs": [
        {
          "output_type": "stream",
          "name": "stdout",
          "text": [
            "Requirement already satisfied: paho-mqtt in /usr/local/lib/python3.7/dist-packages (1.6.1)\n"
          ]
        }
      ]
    },
    {
      "cell_type": "markdown",
      "metadata": {
        "id": "BeRfg7griFuu"
      },
      "source": [
        "Agora, vamos criar varíaveis com as credenciais de acesso MQTT. Uma vez criadas as variáveis, *esse bloco não precisa ser executado novamente*."
      ]
    },
    {
      "cell_type": "code",
      "metadata": {
        "id": "JMf6e8JciM-3"
      },
      "source": [
        "user = \"grupo1-bancadaB5\"\n",
        "passwd = \"L@Bdygy1B5\""
      ],
      "execution_count": 2,
      "outputs": []
    },
    {
      "cell_type": "markdown",
      "metadata": {
        "id": "sY0Rg_5Nii-W"
      },
      "source": [
        "Agora, vamos instanciar nosso objeto cliente MQTT. No momento da conexão também iremos realizar a operação de subscribe nos tópicos de saída **S0**(alerta_mov) e **S1**(calibrando). Observe que a função **on_message** define nossa reação ao receber mensagens nesses tópicos. A partir dessas reações, poderemos verificar os resultados de nossos testes com a saída de nossos códigos. *Esse bloco não precisa ser executado novamente*."
      ]
    },
    {
      "cell_type": "code",
      "metadata": {
        "colab": {
          "base_uri": "https://localhost:8080/",
          "height": 0
        },
        "id": "qPeS_4SGir50",
        "outputId": "f81e0a1f-82c4-4a0d-f368-247593c31916"
      },
      "source": [
        "import paho.mqtt.client as mqtt\n",
        "import time\n",
        "from datetime import datetime\n",
        "\n",
        "broker = \"3.141.193.238\"       \n",
        "port = 80            \n",
        "keepAlive = 60\n",
        "topico_alerta = user+\"/S0\"\n",
        "topico_calibrando = user+\"/S1\"\n",
        "\n",
        "def on_connect(client, userdata, flags, rc):\n",
        "    print(\"Conectado com codigo \" + str(rc))\n",
        "    client.subscribe(topico_alerta, qos=0)\n",
        "    client.subscribe(topico_calibrando, qos=0)\n",
        "\n",
        "def on_message(client, userdata, msg):\n",
        "    topico = msg.topic\n",
        "    valor = str(msg.payload)\n",
        "    if(topico.endswith(\"0\")): #topico S0\n",
        "      if(valor.endswith(\"1\")): #Alerta de Movimento ativado\n",
        "        now = datetime.now()\n",
        "        horario = now.strftime(\"%H:%M:%S\")\n",
        "        print(\"ALERTA DE MOVIMENTO \" + horario)\n",
        "    else: #topico S1\n",
        "      if(valor.endswith(\"1\")): #Calibrando ativado\n",
        "        now = datetime.now()\n",
        "        horario = now.strftime(\"%H:%M:%S\")\n",
        "        print(\"Calibrando... \" + horario)\n",
        "\n",
        "client = mqtt.Client()                      \n",
        "client.on_connect = on_connect              \n",
        "client.on_message = on_message              \n",
        "client.username_pw_set(user, passwd)        \n",
        "client.connect(broker, port, keepAlive)"
      ],
      "execution_count": 3,
      "outputs": [
        {
          "output_type": "execute_result",
          "data": {
            "text/plain": [
              "0"
            ]
          },
          "metadata": {},
          "execution_count": 3
        }
      ]
    },
    {
      "cell_type": "markdown",
      "metadata": {
        "id": "1R_Vv6eXhMoE"
      },
      "source": [
        "# Procedimento de Teste\n",
        "\n",
        "Após o setup inicial, estamos pronto para publicar comandos nos tópicos de entrada **E0**(reset), **E1**(ligar) e **E4**(mode). O projeto QuietWatch possui dois modos de operação: **em casa** e **fora de casa**. Vamos testar cada um deles."
      ]
    },
    {
      "cell_type": "markdown",
      "metadata": {
        "id": "Sn4f_JKQnqUp"
      },
      "source": [
        "### Testando modo \"em casa\"\n",
        "\n",
        "No modo em casa, ao ativar o *alerta_mov*, o movimento do servomotor não é interrompido. Como o usuário se encontra presente na residência, movimento é esperado, dessa forma os eventos são simplesmente registrados para análise posterior."
      ]
    },
    {
      "cell_type": "code",
      "metadata": {
        "colab": {
          "base_uri": "https://localhost:8080/",
          "height": 0
        },
        "id": "O5G2f4w_pm19",
        "outputId": "d3b6a4fd-c1ac-41df-a1dc-b54dcfa3d94b"
      },
      "source": [
        "client.loop_start()\n",
        "#primeiro vamos garantir que o valor inicial das entradas eh zero\n",
        "client.publish(user+\"/E0\", payload=\"0\", qos=0, retain=False)\n",
        "client.publish(user+\"/E1\", payload=\"0\", qos=0, retain=False)\n",
        "client.publish(user+\"/E4\", payload=\"0\", qos=0, retain=False) #modo em casa\n",
        "time.sleep(1)\n",
        "client.publish(user+\"/E0\", payload=\"1\", qos=0, retain=False) #operação reset\n",
        "time.sleep(1)\n",
        "client.publish(user+\"/E0\", payload=\"0\", qos=0, retain=False)\n",
        "client.publish(user+\"/E1\", payload=\"1\", qos=0, retain=False) #operação ligar\n",
        "time.sleep(30) #tempo para monitorar resultados\n",
        "client.loop_stop()"
      ],
      "execution_count": 4,
      "outputs": [
        {
          "output_type": "stream",
          "name": "stdout",
          "text": [
            "Conectado com codigo 0\n"
          ]
        }
      ]
    },
    {
      "cell_type": "markdown",
      "metadata": {
        "id": "M1U8qDy6qx9h"
      },
      "source": [
        "Ao final desse bloco de código, o circuito está operando no modo **em casa** e temos 30 segundos para interagir com a montagem física enquanto o Python monitora os tópicos de saída do circuito."
      ]
    },
    {
      "cell_type": "markdown",
      "metadata": {
        "id": "_sFNgAcApLIM"
      },
      "source": [
        "### Testando modo \"fora de casa\"\n",
        "\n",
        "No modo fora de casa, ao ativar o *alerta_mov*, o movimento do servomotor é interrompido. O objetivo é monitorar a posição onde foi detectado o movimento e apenas retomar a rotina de movimentação normal após a medida do sensor HC-SR04 voltar para o normal."
      ]
    },
    {
      "cell_type": "code",
      "metadata": {
        "id": "VIXIRE_FpnbN"
      },
      "source": [
        "client.loop_start()\n",
        "#primeiro vamos garantir que o valor inicial das entradas eh zero\n",
        "client.publish(user+\"/E0\", payload=\"0\", qos=0, retain=False)\n",
        "client.publish(user+\"/E1\", payload=\"0\", qos=0, retain=False)\n",
        "client.publish(user+\"/E4\", payload=\"0\", qos=0, retain=False)\n",
        "time.sleep(1)\n",
        "client.publish(user+\"/E0\", payload=\"1\", qos=0, retain=False) #operação reset\n",
        "client.publish(user+\"/E4\", payload=\"1\", qos=0, retain=False) #modo fora de casa\n",
        "time.sleep(1)\n",
        "client.publish(user+\"/E0\", payload=\"0\", qos=0, retain=False)\n",
        "client.publish(user+\"/E1\", payload=\"1\", qos=0, retain=False) #operação ligar\n",
        "time.sleep(30) #tempo para monitorar resultados\n",
        "client.loop_stop()"
      ],
      "execution_count": 3,
      "outputs": []
    },
    {
      "cell_type": "markdown",
      "metadata": {
        "id": "EtSZIxx-rXZ-"
      },
      "source": [
        "Ao final desse bloco de código, o circuito está operando no modo **fora de casa** e temos 30 segundos para interagir com a montagem física enquanto o Python monitora os tópicos de saída do circuito."
      ]
    }
  ]
}