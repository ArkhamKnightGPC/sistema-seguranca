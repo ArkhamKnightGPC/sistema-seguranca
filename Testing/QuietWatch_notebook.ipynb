{
  "cells": [
    {
      "cell_type": "markdown",
      "metadata": {
        "id": "N5_0ysgZgLeH"
      },
      "source": [
        "# Notebook for Testing the Security System Project"
      ]
    },
    {
      "cell_type": "markdown",
      "metadata": {
        "id": "yDvKU1c-gb72"
      },
      "source": [
        "This notebook implements an MQTT client responsible for controlling the QuietWatch project. The goal is to automate the testing procedure and provide a tour of the basic journey of our project."
      ]
    },
    {
      "cell_type": "markdown",
      "metadata": {
        "id": "NoiY1y7Rhf7P"
      },
      "source": [
        "## Initial Setup\n",
        "\n",
        "Firstly, it's necessary to install the Paho library to instantiate an MQTT client. Once the library is installed, *this block does not need to be executed again*."
      ]
    },
    {
      "cell_type": "code",
      "execution_count": 1,
      "metadata": {
        "colab": {
          "base_uri": "https://localhost:8080/",
          "height": 0
        },
        "id": "KDuqz8d72JGA",
        "outputId": "6a5ff612-e3c4-4f89-d5e3-67fb1712051a"
      },
      "outputs": [
        {
          "name": "stdout",
          "output_type": "stream",
          "text": [
            "Requirement already satisfied: paho-mqtt in /usr/local/lib/python3.7/dist-packages (1.6.1)\n"
          ]
        }
      ],
      "source": [
        "pip install paho-mqtt"
      ]
    },
    {
      "cell_type": "markdown",
      "metadata": {
        "id": "BeRfg7griFuu"
      },
      "source": [
        "Now, let's create variables with the MQTT access credentials. Once the variables are created, *this block does not need to be executed again*.\n"
      ]
    },
    {
      "cell_type": "code",
      "execution_count": 2,
      "metadata": {
        "id": "JMf6e8JciM-3"
      },
      "outputs": [],
      "source": [
        "user = \"grupo1-bancadaB5\"\n",
        "passwd = \"L@Bdygy1B5\""
      ]
    },
    {
      "cell_type": "markdown",
      "metadata": {
        "id": "sY0Rg_5Nii-W"
      },
      "source": [
        "Now, let's instantiate our MQTT client object. At the time of connection, we will also subscribe to the output topics **S0** (alert_mov) and **S1** (calibrating). Note that the **on_message** function defines our reaction upon receiving messages on these topics. From these reactions, we can verify the results of our tests with the output of our code. *This block does not need to be executed again*.\n"
      ]
    },
    {
      "cell_type": "code",
      "execution_count": 3,
      "metadata": {
        "colab": {
          "base_uri": "https://localhost:8080/",
          "height": 0
        },
        "id": "qPeS_4SGir50",
        "outputId": "f81e0a1f-82c4-4a0d-f368-247593c31916"
      },
      "outputs": [
        {
          "data": {
            "text/plain": [
              "0"
            ]
          },
          "execution_count": 3,
          "metadata": {},
          "output_type": "execute_result"
        }
      ],
      "source": [
        "import paho.mqtt.client as mqtt\n",
        "import time\n",
        "from datetime import datetime\n",
        "\n",
        "broker = \"3.141.193.238\"       \n",
        "port = 80            \n",
        "keepAlive = 60\n",
        "topico_alerta = user+\"/S0\"\n",
        "topico_calibrando = user+\"/S1\"\n",
        "\n",
        "def on_connect(client, userdata, flags, rc):\n",
        "    print(\"Conectado com codigo \" + str(rc))\n",
        "    client.subscribe(topico_alerta, qos=0)\n",
        "    client.subscribe(topico_calibrando, qos=0)\n",
        "\n",
        "def on_message(client, userdata, msg):\n",
        "    topico = msg.topic\n",
        "    valor = str(msg.payload)\n",
        "    if(topico.endswith(\"0\")): #topico S0\n",
        "      if(valor.endswith(\"1\")): #Alerta de Movimento ativado\n",
        "        now = datetime.now()\n",
        "        horario = now.strftime(\"%H:%M:%S\")\n",
        "        print(\"ALERTA DE MOVIMENTO \" + horario)\n",
        "    else: #topico S1\n",
        "      if(valor.endswith(\"1\")): #Calibrando ativado\n",
        "        now = datetime.now()\n",
        "        horario = now.strftime(\"%H:%M:%S\")\n",
        "        print(\"Calibrando... \" + horario)\n",
        "\n",
        "client = mqtt.Client()                      \n",
        "client.on_connect = on_connect              \n",
        "client.on_message = on_message              \n",
        "client.username_pw_set(user, passwd)        \n",
        "client.connect(broker, port, keepAlive)"
      ]
    },
    {
      "cell_type": "markdown",
      "metadata": {
        "id": "1R_Vv6eXhMoE"
      },
      "source": [
        "# Testing Procedure\n",
        "\n",
        "After the initial setup, we are ready to publish commands to the input topics **E0** (reset), **E1** (turn on), and **E4** (mode). The QuietWatch project has two operation modes: **at home** and **away from home**. Let's test each one of them."
      ]
    },
    {
      "cell_type": "markdown",
      "metadata": {
        "id": "Sn4f_JKQnqUp"
      },
      "source": [
        "### Testing \"at home\" mode\n",
        "\n",
        "In the \"at home\" mode, when activating the *alert_mov*, the movement of the servo motor is not interrupted. Since the user is present at home, movement is expected, so the events are simply recorded for later analysis."
      ]
    },
    {
      "cell_type": "code",
      "execution_count": 4,
      "metadata": {
        "colab": {
          "base_uri": "https://localhost:8080/",
          "height": 0
        },
        "id": "O5G2f4w_pm19",
        "outputId": "d3b6a4fd-c1ac-41df-a1dc-b54dcfa3d94b"
      },
      "outputs": [
        {
          "name": "stdout",
          "output_type": "stream",
          "text": [
            "Conectado com codigo 0\n"
          ]
        }
      ],
      "source": [
        "client.loop_start()\n",
        "#primeiro vamos garantir que o valor inicial das entradas eh zero\n",
        "client.publish(user+\"/E0\", payload=\"0\", qos=0, retain=False)\n",
        "client.publish(user+\"/E1\", payload=\"0\", qos=0, retain=False)\n",
        "client.publish(user+\"/E4\", payload=\"0\", qos=0, retain=False) #modo em casa\n",
        "time.sleep(1)\n",
        "client.publish(user+\"/E0\", payload=\"1\", qos=0, retain=False) #operação reset\n",
        "time.sleep(1)\n",
        "client.publish(user+\"/E0\", payload=\"0\", qos=0, retain=False)\n",
        "client.publish(user+\"/E1\", payload=\"1\", qos=0, retain=False) #operação ligar\n",
        "time.sleep(30) #tempo para monitorar resultados\n",
        "client.loop_stop()"
      ]
    },
    {
      "cell_type": "markdown",
      "metadata": {
        "id": "M1U8qDy6qx9h"
      },
      "source": [
        "At the end of this code block, the circuit is operating in the **at home** mode, and we have 30 seconds to interact with the physical setup while Python monitors the circuit's output topics."
      ]
    },
    {
      "cell_type": "markdown",
      "metadata": {
        "id": "_sFNgAcApLIM"
      },
      "source": [
        "### Testing \"away from home\" mode\n",
        "\n",
        "In the \"away from home\" mode, when activating the *alerta_mov*, the movement of the servo motor is interrupted. The goal is to monitor the position where the movement was detected and only resume normal movement routine after the HC-SR04 sensor measurement returns to normal."
      ]
    },
    {
      "cell_type": "code",
      "execution_count": 3,
      "metadata": {
        "id": "VIXIRE_FpnbN"
      },
      "outputs": [],
      "source": [
        "client.loop_start()\n",
        "#primeiro vamos garantir que o valor inicial das entradas eh zero\n",
        "client.publish(user+\"/E0\", payload=\"0\", qos=0, retain=False)\n",
        "client.publish(user+\"/E1\", payload=\"0\", qos=0, retain=False)\n",
        "client.publish(user+\"/E4\", payload=\"0\", qos=0, retain=False)\n",
        "time.sleep(1)\n",
        "client.publish(user+\"/E0\", payload=\"1\", qos=0, retain=False) #operação reset\n",
        "client.publish(user+\"/E4\", payload=\"1\", qos=0, retain=False) #modo fora de casa\n",
        "time.sleep(1)\n",
        "client.publish(user+\"/E0\", payload=\"0\", qos=0, retain=False)\n",
        "client.publish(user+\"/E1\", payload=\"1\", qos=0, retain=False) #operação ligar\n",
        "time.sleep(30) #tempo para monitorar resultados\n",
        "client.loop_stop()"
      ]
    },
    {
      "cell_type": "markdown",
      "metadata": {
        "id": "EtSZIxx-rXZ-"
      },
      "source": [
        "At the end of this code block, the circuit is operating in the **away from home** mode, and we have 30 seconds to interact with the physical setup while Python monitors the circuit's output topics."
      ]
    }
  ],
  "metadata": {
    "colab": {
      "name": "QuietWatch_notebook.ipynb",
      "provenance": []
    },
    "kernelspec": {
      "display_name": "Python 3",
      "name": "python3"
    },
    "language_info": {
      "name": "python"
    }
  },
  "nbformat": 4,
  "nbformat_minor": 0
}
